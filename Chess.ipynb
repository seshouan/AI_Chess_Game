{
 "cells": [
  {
   "cell_type": "code",
   "execution_count": null,
   "id": "173c173c-dee6-4e9f-829f-70f5801f695a",
   "metadata": {},
   "outputs": [],
   "source": [
    "# import required modules\n",
    "from stockfish import Stockfish\n",
    "import chess\n",
    "import random\n",
    "from pprint import pprint\n",
    "import numpy as np\n",
    "import os\n",
    "import glob\n",
    "import time"
   ]
  },
  {
   "cell_type": "code",
   "execution_count": null,
   "id": "44c5d02e-0ac4-490a-9dd6-7c96cc17f775",
   "metadata": {},
   "outputs": [],
   "source": [
    "#helper functions:\n",
    "def checkEndCondition(board):\n",
    " if (board.is_checkmate() or board.is_stalemate() or board.is_insufficient_material() or board.can_claim_threefold_repetition() or board.can_claim_fifty_moves() or board.can_claim_draw()):\n",
    "  return True\n",
    " return False\n",
    "\n",
    "#save\n",
    "def findNextIdx():\n",
    " files = (glob.glob(r\"C:\\Users\\eivin\\Documents\\ownProgrammingProjects18062023\\ChessEngine\\data\\*.npy\"))\n",
    " if (len(files) == 0):\n",
    "  return 1 #if no files, return 1\n",
    " highestIdx = 0\n",
    " for f in files:\n",
    "  file = f\n",
    "  currIdx = file.split(\"movesAndPositions\")[-1].split(\".npy\")[0]\n",
    "  highestIdx = max(highestIdx, int(currIdx))\n",
    "\n",
    " return int(highestIdx)+1\n",
    "\n",
    "def saveData(moves, positions):\n",
    " moves = np.array(moves).reshape(-1, 1)\n",
    " positions = np.array(positions).reshape(-1,1)\n",
    " movesAndPositions = np.concatenate((moves, positions), axis = 1)\n",
    " nextIdx = findNextIdx()\n",
    " np.save(f\"data/movesAndPositions{nextIdx}.npy\", movesAndPositions)\n",
    " print(\"Saved successfully\")\n",
    "\n",
    "def runGame(numMoves, filename = \"movesAndPositions1.npy\"):\n",
    " \"\"\"run a game you stored\"\"\"\n",
    " testing = np.load(f\"data/{filename}\")\n",
    " moves = testing[:, 0]\n",
    " if (numMoves > len(moves)):\n",
    "  print(\"Must enter a lower number of moves than maximum game length. Game length here is: \", len(moves))\n",
    "  return\n",
    "\n",
    " testBoard = chess.Board()\n",
    "\n",
    " for i in range(numMoves):\n",
    "  move = moves[i]\n",
    "  testBoard.push_san(move)\n",
    " return testBoard"
   ]
  },
  {
   "cell_type": "code",
   "execution_count": null,
   "id": "3e3e9933-c925-446c-965d-cd975c71864c",
   "metadata": {},
   "outputs": [],
   "source": []
  },
  {
   "cell_type": "code",
   "execution_count": null,
   "id": "9b68006d-9dd5-4bf7-b668-c5113d2719da",
   "metadata": {},
   "outputs": [],
   "source": []
  },
  {
   "cell_type": "code",
   "execution_count": null,
   "id": "3c58670d-ae9c-4742-966c-0af9de6ee337",
   "metadata": {},
   "outputs": [],
   "source": []
  },
  {
   "cell_type": "code",
   "execution_count": null,
   "id": "53bd2fce-7aa5-4fff-be5a-2ac24fb2e0c1",
   "metadata": {},
   "outputs": [],
   "source": []
  }
 ],
 "metadata": {
  "kernelspec": {
   "display_name": "Python 3 (ipykernel)",
   "language": "python",
   "name": "python3"
  },
  "language_info": {
   "codemirror_mode": {
    "name": "ipython",
    "version": 3
   },
   "file_extension": ".py",
   "mimetype": "text/x-python",
   "name": "python",
   "nbconvert_exporter": "python",
   "pygments_lexer": "ipython3",
   "version": "3.11.3"
  }
 },
 "nbformat": 4,
 "nbformat_minor": 5
}
